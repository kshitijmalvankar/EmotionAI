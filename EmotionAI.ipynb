{
  "nbformat": 4,
  "nbformat_minor": 0,
  "metadata": {
    "colab": {
      "name": "EmotionAI.ipynb",
      "provenance": [],
      "collapsed_sections": [],
      "authorship_tag": "ABX9TyMrHrYH6VGQuIaCdJYRbz6N",
      "include_colab_link": true
    },
    "kernelspec": {
      "name": "python3",
      "display_name": "Python 3"
    }
  },
  "cells": [
    {
      "cell_type": "markdown",
      "metadata": {
        "id": "view-in-github",
        "colab_type": "text"
      },
      "source": [
        "<a href=\"https://colab.research.google.com/github/kshitijmalvankar/EmotionAI/blob/main/EmotionAI.ipynb\" target=\"_parent\"><img src=\"https://colab.research.google.com/assets/colab-badge.svg\" alt=\"Open In Colab\"/></a>"
      ]
    },
    {
      "cell_type": "markdown",
      "metadata": {
        "id": "NlROYlQqJQxy"
      },
      "source": [
        "Importing the Libraries"
      ]
    },
    {
      "cell_type": "code",
      "metadata": {
        "id": "iTEf0jCPHa7w"
      },
      "source": [
        "import pandas as pd\n",
        "import numpy as np\n",
        "import os\n",
        "import PIL\n",
        "import seaborn as sns\n",
        "import pickle\n",
        "from PIL import *\n",
        "import cv2\n",
        "import tensorflow as tf\n",
        "from tensorflow import keras\n",
        "from tensorflow.keras.applications import DenseNet121\n",
        "from tensorflow.keras.models import Model, load_model\n",
        "from tensorflow.keras.initializers import glorot_uniform\n",
        "from tensorflow.keras.utils import plot_model\n",
        "from tensorflow.keras.callbacks import ReduceLROnPlateau, EarlyStopping, ModelCheckpoint, LearningRateScheduler\n",
        "from IPython.display import display\n",
        "from tensorflow.python.keras import *\n",
        "from tensorflow.keras.preprocessing.image import ImageDataGenerator\n",
        "from tensorflow.keras import layers, optimizers\n",
        "from tensorflow.keras.applications.resnet50 import ResNet50\n",
        "from tensorflow.keras.layers import *\n",
        "from tensorflow.keras import backend as K\n",
        "from keras import optimizers\n",
        "import matplotlib.pyplot as plt\n",
        "from sklearn.model_selection import train_test_split\n",
        "from google.colab.patches import cv2_imshow"
      ],
      "execution_count": null,
      "outputs": []
    },
    {
      "cell_type": "code",
      "metadata": {
        "id": "L-y2XSpKJ_iv"
      },
      "source": [
        "keyfacial_df = pd.read_csv('data.csv')"
      ],
      "execution_count": null,
      "outputs": []
    },
    {
      "cell_type": "code",
      "metadata": {
        "id": "ohxPFCUDLd9X"
      },
      "source": [
        "keyfacial_df"
      ],
      "execution_count": null,
      "outputs": []
    },
    {
      "cell_type": "code",
      "metadata": {
        "id": "djSug4O-LmXY"
      },
      "source": [
        "keyfacial_df.info()\n",
        "#Relevent information"
      ],
      "execution_count": null,
      "outputs": []
    },
    {
      "cell_type": "code",
      "metadata": {
        "id": "SExTqU1kLtKn"
      },
      "source": [
        "# Check if null values exist in the dataframe\n",
        "keyfacial_df.isnull().sum()"
      ],
      "execution_count": null,
      "outputs": []
    },
    {
      "cell_type": "code",
      "metadata": {
        "id": "6wVQexuvL2q6"
      },
      "source": [
        "# Since values for the image are given as space separated string, separate the values using ' ' as separator.\n",
        "# Then convert this into numpy array using np.fromstring and convert the obtained 1D array into 2D array of shape (96, 96)\n",
        "keyfacial_df['Image'] = keyfacial_df['Image'].apply(lambda x: np.fromstring(x, dtype = int, sep = ' ').reshape(96, 96))"
      ],
      "execution_count": null,
      "outputs": []
    },
    {
      "cell_type": "code",
      "metadata": {
        "id": "rQBE-Ne6L5fO"
      },
      "source": [
        "# Obtain the Shape of the image\n",
        "keyfacial_df['Image'][0].shape"
      ],
      "execution_count": null,
      "outputs": []
    },
    {
      "cell_type": "code",
      "metadata": {
        "id": "Ek76E_QtL8ZW"
      },
      "source": [
        "keyfacial_df.describe()"
      ],
      "execution_count": null,
      "outputs": []
    },
    {
      "cell_type": "markdown",
      "metadata": {
        "id": "aUZbMgALNyJV"
      },
      "source": [
        "Performing Image Visualization"
      ]
    },
    {
      "cell_type": "code",
      "metadata": {
        "id": "ngXe60ypN1Dp"
      },
      "source": [
        "i = np.random.randint(1, len(keyfacial_df))\n",
        "plt.imshow(keyfacial_df['Image'][i], cmap = 'gray')\n",
        "for j in range(1, 31, 2):\n",
        "        plt.plot(keyfacial_df.loc[i][j-1], keyfacial_df.loc[i][j], 'rx')"
      ],
      "execution_count": null,
      "outputs": []
    },
    {
      "cell_type": "code",
      "metadata": {
        "id": "o5Sh3Kt2N5zh"
      },
      "source": [
        "fig = plt.figure(figsize=(20, 20))\n",
        "\n",
        "for i in range(16):\n",
        "    ax = fig.add_subplot(4, 4, i + 1)    \n",
        "    image = plt.imshow(keyfacial_df['Image'][i],cmap = 'gray')\n",
        "    for j in range(1,31,2):\n",
        "        plt.plot(keyfacial_df.loc[i][j-1], keyfacial_df.loc[i][j], 'rx')"
      ],
      "execution_count": null,
      "outputs": []
    },
    {
      "cell_type": "code",
      "metadata": {
        "id": "2ralftAtOIOR"
      },
      "source": [
        "import random\n",
        "# Let's view more images in a grid format\n",
        "fig = plt.figure(figsize=(20, 20))\n",
        "\n",
        "for i in range(64):\n",
        "    k = random.randint(1, len(keyfacial_df))\n",
        "    ax = fig.add_subplot(8, 8, i + 1)    \n",
        "    image = plt.imshow(keyfacial_df['Image'][k],cmap = 'gray')\n",
        "    for j in range(1,31,2):\n",
        "        plt.plot(keyfacial_df.loc[k][j-1], keyfacial_df.loc[k][j], 'rx')"
      ],
      "execution_count": null,
      "outputs": []
    },
    {
      "cell_type": "markdown",
      "metadata": {
        "id": "4YIDFJwlOS6L"
      },
      "source": [
        "Image Augmentation"
      ]
    },
    {
      "cell_type": "code",
      "metadata": {
        "id": "s1_BfAGpOUqV"
      },
      "source": [
        "# Create a new copy of the dataframe\n",
        "import copy\n",
        "keyfacial_df_copy = copy.copy(keyfacial_df)\n",
        "columns = keyfacial_df_copy.columns[:-1]\n",
        "columns"
      ],
      "execution_count": null,
      "outputs": []
    },
    {
      "cell_type": "code",
      "metadata": {
        "id": "5011g4eIOdEP"
      },
      "source": [
        "# Horizontal Flip - flip the images along y axis\n",
        "keyfacial_df_copy['Image'] = keyfacial_df_copy['Image'].apply(lambda x: np.flip(x, axis = 1))\n",
        "\n",
        "# since we are flipping horizontally, y coordinate values would be the same\n",
        "# Only x coordiante values would change, all we have to do is to subtract our initial x-coordinate values from width of the image(96)\n",
        "for i in range(len(columns)):\n",
        "  if i%2 == 0:\n",
        "    keyfacial_df_copy[columns[i]] = keyfacial_df_copy[columns[i]].apply(lambda x: 96. - float(x) )"
      ],
      "execution_count": 13,
      "outputs": []
    },
    {
      "cell_type": "code",
      "metadata": {
        "id": "lG5-H8RyOgou"
      },
      "source": [
        "# Show the Original image\n",
        "plt.imshow(keyfacial_df['Image'][0], cmap = 'gray')\n",
        "for j in range(1, 31, 2):\n",
        "        plt.plot(keyfacial_df.loc[0][j-1], keyfacial_df.loc[0][j], 'rx')"
      ],
      "execution_count": null,
      "outputs": []
    },
    {
      "cell_type": "code",
      "metadata": {
        "id": "jSrBfvU4Oivj"
      },
      "source": [
        "# Show the Horizontally flipped image\n",
        "plt.imshow(keyfacial_df_copy['Image'][0],cmap='gray')\n",
        "for j in range(1, 31, 2):\n",
        "        plt.plot(keyfacial_df_copy.loc[0][j-1], keyfacial_df_copy.loc[0][j], 'rx')"
      ],
      "execution_count": null,
      "outputs": []
    },
    {
      "cell_type": "code",
      "metadata": {
        "id": "am3Oor10OnRB"
      },
      "source": [
        "# Concatenate the original dataframe with the augmented dataframe\n",
        "augmented_df = np.concatenate((keyfacial_df, keyfacial_df_copy))"
      ],
      "execution_count": 16,
      "outputs": []
    },
    {
      "cell_type": "code",
      "metadata": {
        "colab": {
          "base_uri": "https://localhost:8080/"
        },
        "id": "E85Wz8CEO0Uo",
        "outputId": "296ce276-f7e4-40d4-b422-f56d38d630c4"
      },
      "source": [
        "# Randomingly increasing the brightness of the images\n",
        "# We multiply pixel values by random values between 1.5 and 2 to increase the brightness of the image\n",
        "# we clip the value between 0 and 255\n",
        "\n",
        "import random\n",
        "\n",
        "keyfacial_df_copy = copy.copy(keyfacial_df)\n",
        "keyfacial_df_copy['Image'] = keyfacial_df_copy['Image'].apply(lambda x:np.clip(random.uniform(1.5, 2)* x, 0.0, 255.0))\n",
        "augmented_df = np.concatenate((augmented_df, keyfacial_df_copy))\n",
        "augmented_df.shape"
      ],
      "execution_count": 18,
      "outputs": [
        {
          "output_type": "execute_result",
          "data": {
            "text/plain": [
              "(6420, 31)"
            ]
          },
          "metadata": {
            "tags": []
          },
          "execution_count": 18
        }
      ]
    },
    {
      "cell_type": "code",
      "metadata": {
        "id": "AsgdM4IJPAOc"
      },
      "source": [
        "# Show Image with increased brightness\n",
        "\n",
        "plt.imshow(keyfacial_df_copy['Image'][0], cmap='gray')\n",
        "for j in range(1, 31, 2):\n",
        "        plt.plot(keyfacial_df_copy.loc[0][j-1], keyfacial_df_copy.loc[0][j], 'rx')"
      ],
      "execution_count": null,
      "outputs": []
    }
  ]
}